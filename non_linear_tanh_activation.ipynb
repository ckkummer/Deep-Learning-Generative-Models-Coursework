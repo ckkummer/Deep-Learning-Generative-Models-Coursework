{
 "cells": [
  {
   "cell_type": "markdown",
   "metadata": {},
   "source": [
    "STAT 453: Deep Learning (Spring 2024)  \n",
    "Instructor: Yiqiao Zhong (yiqiao.zhong@wisc.edu)  \n",
    "\n",
    "Resources from previous years:\n",
    "Course website: http://pages.stat.wisc.edu/~sraschka/teaching/stat453-ss2020/  \n",
    "GitHub repository: https://github.com/rasbt/stat453-deep-learning-ss20"
   ]
  },
  {
   "cell_type": "code",
   "execution_count": null,
   "metadata": {},
   "outputs": [],
   "source": []
  },
  {
   "cell_type": "markdown",
   "metadata": {},
   "source": [
    "# HW 2: A Single Layer Neuron with a Non-Linear Activation Function (50 pts)"
   ]
  },
  {
   "cell_type": "markdown",
   "metadata": {},
   "source": [
    "# Problem Setting"
   ]
  },
  {
   "cell_type": "markdown",
   "metadata": {},
   "source": [
    "Suppose you have a neuron model where the activation function (which is an identity function in ADALINE) is replaced by a non-linear activation function. The figure below shows an arbitrary single-layer neuron.\n",
    "\n",
    "- If $\\sigma(z) = z$, the activation function is an identity function and the neuron represents ADALINE.\n",
    "- If $\\sigma(z) = \\frac{e^z - e^{-z}}{e^z + e^{-z}}$, the activation function is a hyperbolic tangent (tanh), which is a non-linear sigmoid function (https://en.wikipedia.org/wiki/Sigmoid_function).\n"
   ]
  },
  {
   "cell_type": "markdown",
   "metadata": {},
   "source": [
    "![](images/neuron.png)"
   ]
  },
  {
   "cell_type": "markdown",
   "metadata": {},
   "source": [
    "As mentioned above, in this homework, we are working with a tanh activation function, which we defined as\n",
    "$$\n",
    "\\sigma(z) = \\frac{e^z - e^{-z}}{e^z + e^{-z}},\n",
    "$$"
   ]
  },
  {
   "cell_type": "markdown",
   "metadata": {},
   "source": [
    "![](images/tanh.png)"
   ]
  },
  {
   "cell_type": "markdown",
   "metadata": {},
   "source": [
    "Here $z$ denotes the net input,  $z = \\mathbf{w}^\\top \\mathbf{x} + b$ (for a single training example, we write $z^{[i]} = \\mathbf{w}^\\top \\mathbf{x}^{[i]} + b$).\n",
    "\n",
    "Assume now that we want learn the parameters of the neuron model for a binary classification task with class labels $y \\in \\{0, 1\\}$ similar to ADALINE. We use the same loss function, mean squared error (MSE), as in ADALINE, during training:\n",
    "\n"
   ]
  },
  {
   "cell_type": "markdown",
   "metadata": {},
   "source": [
    "$$\n",
    "\\mathcal{L}(\\mathbf{\\hat{y}}, \\mathbf{y}) = \\frac{1}{n} \\sum_{i}^{} (\\hat{y}^{[i]} - y^{[i]})^2.\n",
    "$$"
   ]
  },
  {
   "cell_type": "markdown",
   "metadata": {},
   "source": [
    "## TASK 1: Compute the Loss Gradients with respect to the weights and bias unit  -- 25 pts"
   ]
  },
  {
   "cell_type": "markdown",
   "metadata": {},
   "source": [
    "Your task is to derive the gradient of the loss $\\mathcal{L}$ with respect to the weight vector and the bias unit and formulate the learning rule. \n",
    "\n",
    "Remember that the gradient of the loss is defined as \n",
    "\n",
    "$$\n",
    "\\nabla_\\mathbf{w} \\mathcal{L}(\\mathbf{w}) = \n",
    "\\begin{bmatrix}\n",
    "\\frac{\\partial \\mathcal{L}(\\mathbf{w})}{\\partial w_1}\\\\\n",
    "\\vdots \\\\\n",
    "\\frac{\\partial \\mathcal{L}(\\mathbf{w})}{\\partial w_m}\\\\\n",
    "\\end{bmatrix}\n",
    "$$\n",
    "\n",
    "**For simplicity, it is sufficient if you write down the partial derivative and learning rule for a single weight $w_j$ and the bias unit $b$**. \n",
    "\n",
    "To provide you with a hint, recall that we computed the partial Loss derivatives for ADALINE as follows:"
   ]
  },
  {
   "cell_type": "markdown",
   "metadata": {},
   "source": [
    "$$\n",
    "\\begin{align}\n",
    "\\frac{\\partial \\mathcal{L}}{\\partial w_j} &= \\frac{\\partial}{\\partial w_j} \\frac{1}{n} \\sum_i (\\hat{y}^{[i]} - y^{[i]} )^2\\\\\n",
    "&= \\frac{\\partial}{\\partial w_j}  \\frac{1}{n} \\sum_i (\\sigma(\\mathbf{w}^T\\mathbf{x}^{[i]} + b) - y^{[i]})^2\\\\\n",
    "\\\\\n",
    "&= \\quad ... \\\\\n",
    "\\\\\n",
    "&= \\sum_i \\frac{2}{n}  (\\sigma(\\mathbf{w}^T\\mathbf{x}^{[i]} + b) - y^{[i]})   x_j^{[i]}\n",
    "\\end{align}\n",
    "$$"
   ]
  },
  {
   "cell_type": "markdown",
   "metadata": {},
   "source": [
    "<br>\n",
    "<br>"
   ]
  },
  {
   "cell_type": "markdown",
   "metadata": {},
   "source": [
    "$$\n",
    "\\begin{align}\n",
    "\\frac{\\partial \\mathcal{L}}{\\partial b} &= \\frac{\\partial}{\\partial b} \\frac{1}{n}\\sum_i (\\hat{y}^{[i]} - y^{[i]} )^2\\\\\n",
    "&= \\frac{\\partial}{\\partial b}  \\frac{1}{n} \\sum_i (\\sigma(\\mathbf{w}^T\\mathbf{x}^{[i]} + b) - y^{[i]})^2\\\\\n",
    "\\\\\n",
    "&= \\quad ... \\\\\n",
    "\\\\\n",
    "&= \\sum_i \\frac{2}{n}  (\\sigma(\\mathbf{w}^T\\mathbf{x}^{[i]} + b) - y^{[i]})\n",
    "\\end{align}\n",
    "$$"
   ]
  },
  {
   "cell_type": "markdown",
   "metadata": {},
   "source": [
    "Again, your task is to derive \n",
    "\n",
    "- a) $$\\frac{\\partial \\mathcal{L}}{\\partial w_j}$$ \n",
    "\n",
    "and \n",
    "\n",
    "- b) $$\\frac{\\partial \\mathcal{L}}{\\partial b}$$ \n",
    "\n",
    "for the neuron model with the non-linear activation function \n",
    "\n",
    "$$\n",
    "\\sigma(\\mathbf{w}^\\top \\mathbf{x} + b) =  \\frac{e^{\\mathbf{w}^\\top \\mathbf{x} + b} - e^{- (\\mathbf{w}^\\top \\mathbf{x} + b)}}{e^{\\mathbf{w}^\\top \\mathbf{x}+b} + e^{- (\\mathbf{w}^\\top \\mathbf{x}+ b)}}\n",
    "$$\n",
    "\n",
    "For partial credits in case of a wrong solution, also write down the individual steps in the cell below."
   ]
  },
  {
   "cell_type": "markdown",
   "metadata": {},
   "source": [
    "**!!!Fill in with your solution below!!!**\n",
    "\n",
    "$$\n",
    "\\begin{align}\n",
    "\\frac{\\partial \\mathcal{L}}{\\partial w_j} &= \\frac{\\partial}{\\partial w_j} \\frac{1}{n}\\sum_i (\\hat{y}^{[i]} - y^{[i]} )^2\\\\\\\\\n",
    "&= \\frac{\\partial}{\\partial w_j} \\frac{1}{n}\\sum_i (\\sigma(\\mathbf{w}^T\\mathbf{x}^{[i]} + b) - y^{[i]})^2\\\\\\\\\n",
    "&= \\sum_i\\frac{2}{n} (\\sigma(\\mathbf{w}^T\\mathbf{x}^{[i]} + b) - y^{[i]})\\frac{\\partial}{\\partial w_j}(\\sigma(\\mathbf{w}^T\\mathbf{x}^{[i]} + b))\\\\\\\\\n",
    "&= \\sum_i \\frac{2}{n}(\\sigma(\\mathbf{w}^T\\mathbf{x}^{[i]} + b) - y^{[i]})\\frac{\\partial}{\\partial w_j}\\left(\\frac{e^{\\mathbf{w}^\\top \\mathbf{x} + b} - e^{- (\\mathbf{w}^\\top \\mathbf{x} + b)}}{e^{\\mathbf{w}^\\top \\mathbf{x}+b} + e^{- (\\mathbf{w}^\\top \\mathbf{x}+ b)}}\\right)\\\\\\\\\n",
    "&= \\sum_i \\frac{2}{n} (\\sigma(\\mathbf{w}^T\\mathbf{x}^{[i]} + b) - y^{[i]})\\left(\n",
    "\\frac{\n",
    "\\left(e^{\\mathbf{w}^\\top \\mathbf{x}+b} + e^{- (\\mathbf{w}^\\top \\mathbf{x}+ b)}\\right)\\left(xe^{\\mathbf{w}^\\top \\mathbf{x}+b}+ xe^{- (\\mathbf{w}^\\top \\mathbf{x}+ b)}\\right) - \\left(e^{\\mathbf{w}^\\top \\mathbf{x} + b} - e^{- (\\mathbf{w}^\\top \\mathbf{x} + b)}\\right)\\left(xe^{ (\\mathbf{w}^\\top \\mathbf{x}+ b)}-xe^{- (\\mathbf{w}^\\top \\mathbf{x}+ b)}\\right)}{\\left(e^{\\mathbf{w}^\\top \\mathbf{x}+b} + e^{- (\\mathbf{w}^\\top \\mathbf{x}+ b)}\\right)^2}\\right)\\\\\\\\\n",
    "&= \\sum_i\\frac{2}{n} (\\sigma(\\mathbf{w}^T\\mathbf{x}^{[i]} + b) - y^{[i]})\\left(\\frac{4x}{{\\left(e^{\\mathbf{w}^\\top \\mathbf{x}+b} + e^{- (\\mathbf{w}^\\top \\mathbf{x}+ b)}\\right)^2}}\\right)\\\\\\\\\n",
    "&=\\frac{2}{n}\\sum_i((\\frac{e^{\\mathbf{w}^\\top \\mathbf{x} + b} - e^{- (\\mathbf{w}^\\top \\mathbf{x} + b)}}{e^{\\mathbf{w}^\\top \\mathbf{x}+b} + e^{- (\\mathbf{w}^\\top \\mathbf{x}+ b)}}) - y^{[i]})\\left(\\frac{4x}{{\\left(e^{\\mathbf{w}^\\top \\mathbf{x}+b} + e^{- (\\mathbf{w}^\\top \\mathbf{x}+ b)}\\right)^2}}\\right)\\\\\\\\\n",
    "\\end{align}\n",
    "$$"
   ]
  },
  {
   "cell_type": "markdown",
   "metadata": {},
   "source": [
    "<br>\n",
    "<br>"
   ]
  },
  {
   "cell_type": "markdown",
   "metadata": {},
   "source": [
    "**!!!Fill in with your solution below!!!**\n",
    "$$\n",
    "\\begin{align}\n",
    "\\frac{\\partial \\mathcal{L}}{\\partial b} &= \\frac{\\partial}{\\partial b} \\frac{1}{n} \\sum_i (\\hat{y}^{[i]} - y^{[i]} )^2\\\\\\\\\n",
    "&= \\frac{\\partial}{\\partial b} \\frac{1}{n}\\sum_i (\\sigma(\\mathbf{w}^T\\mathbf{x}^{[i]} + b) - y^{[i]})^2\\\\\\\\\n",
    "&=  \\sum_i\\frac{2}{n} (\\sigma(\\mathbf{w}^T\\mathbf{x}^{[i]} + b) - y^{[i]})\\frac{\\partial}{\\partial b}(\\sigma(\\mathbf{w}^T\\mathbf{x}^{[i]} + b))\\\\\\\\\n",
    "&= \\sum_i \\frac{2}{n}(\\sigma(\\mathbf{w}^T\\mathbf{x}^{[i]} + b) - y^{[i]})\\frac{\\partial}{\\partial b}\\left(\\frac{e^{\\mathbf{w}^\\top \\mathbf{x} + b} - e^{- (\\mathbf{w}^\\top \\mathbf{x} + b)}}{e^{\\mathbf{w}^\\top \\mathbf{x}+b} + e^{- (\\mathbf{w}^\\top \\mathbf{x}+ b)}}\\right)\\\\\n",
    "\\\\\n",
    "&=\\sum_i \\frac{2}{n} (\\sigma(\\mathbf{w}^T\\mathbf{x}^{[i]} + b) - y^{[i]})\\left(\n",
    "\\frac{\n",
    "\\left(e^{\\mathbf{w}^\\top \\mathbf{x}+b} + e^{- (\\mathbf{w}^\\top \\mathbf{x}+ b)}\\right)\\left(e^{\\mathbf{w}^\\top \\mathbf{x}+b}+ e^{- (\\mathbf{w}^\\top \\mathbf{x}+ b)}\\right) - \\left(e^{\\mathbf{w}^\\top \\mathbf{x} + b} - e^{- (\\mathbf{w}^\\top \\mathbf{x} + b)}\\right)\\left(e^{ (\\mathbf{w}^\\top \\mathbf{x}+ b)}-e^{- (\\mathbf{w}^\\top \\mathbf{x}+ b)}\\right)}{\\left(e^{\\mathbf{w}^\\top \\mathbf{x}+b} + e^{- (\\mathbf{w}^\\top \\mathbf{x}+ b)}\\right)^2}\\right)\\\\\\\\\n",
    "&=\\sum_i\\frac{2}{n} (\\sigma(\\mathbf{w}^T\\mathbf{x}^{[i]} + b) - y^{[i]})\\left(\\frac{4}{{\\left(e^{\\mathbf{w}^\\top \\mathbf{x}+b} + e^{- (\\mathbf{w}^\\top \\mathbf{x}+ b)}\\right)^2}}\\right)\\\\\\\\\n",
    "&=\\frac{2}{n}\\sum_i((\\frac{e^{\\mathbf{w}^\\top \\mathbf{x} + b} - e^{- (\\mathbf{w}^\\top \\mathbf{x} + b)}}{e^{\\mathbf{w}^\\top \\mathbf{x}+b} + e^{- (\\mathbf{w}^\\top \\mathbf{x}+ b)}}) - y^{[i]})\\left(\\frac{4}{{\\left(e^{\\mathbf{w}^\\top \\mathbf{x}+b} + e^{- (\\mathbf{w}^\\top \\mathbf{x}+ b)}\\right)^2}}\\right)\\\\\\\\\n",
    "\\end{align}\n",
    "$$"
   ]
  },
  {
   "cell_type": "markdown",
   "metadata": {},
   "source": [
    "# Coding Section"
   ]
  },
  {
   "cell_type": "markdown",
   "metadata": {},
   "source": [
    "Complete the code below, the missing parts are indicated via \n",
    "\n",
    "    # <YOUR CODE HERE>\n",
    "    \n",
    "to implement the neuron model (it is very similar to the ADALINE model we discussed in class, except the derivatives)."
   ]
  },
  {
   "cell_type": "markdown",
   "metadata": {},
   "source": [
    "## Imports (Don't modify this section, just execute)"
   ]
  },
  {
   "cell_type": "markdown",
   "metadata": {},
   "source": [
    "**No modification required.** You should execute this code and are encouraged to explore it further, but it is recommended to  not make any alterations here."
   ]
  },
  {
   "cell_type": "code",
   "execution_count": 1,
   "metadata": {},
   "outputs": [],
   "source": [
    "import matplotlib.pyplot as plt\n",
    "import pandas as pd\n",
    "import torch\n",
    "%matplotlib inline"
   ]
  },
  {
   "cell_type": "markdown",
   "metadata": {},
   "source": [
    "## Loading the dataset (Don't modify this section, just execute)"
   ]
  },
  {
   "cell_type": "markdown",
   "metadata": {},
   "source": [
    "**No modification required.** You should execute this code and are encouraged to explore it further, but it is recommended to  not make any alterations here."
   ]
  },
  {
   "cell_type": "code",
   "execution_count": 23,
   "metadata": {},
   "outputs": [
    {
     "data": {
      "text/html": [
       "<div>\n",
       "<style scoped>\n",
       "    .dataframe tbody tr th:only-of-type {\n",
       "        vertical-align: middle;\n",
       "    }\n",
       "\n",
       "    .dataframe tbody tr th {\n",
       "        vertical-align: top;\n",
       "    }\n",
       "\n",
       "    .dataframe thead th {\n",
       "        text-align: right;\n",
       "    }\n",
       "</style>\n",
       "<table border=\"1\" class=\"dataframe\">\n",
       "  <thead>\n",
       "    <tr style=\"text-align: right;\">\n",
       "      <th></th>\n",
       "      <th>x1</th>\n",
       "      <th>x2</th>\n",
       "      <th>x3</th>\n",
       "      <th>x4</th>\n",
       "      <th>y</th>\n",
       "    </tr>\n",
       "  </thead>\n",
       "  <tbody>\n",
       "    <tr>\n",
       "      <th>145</th>\n",
       "      <td>6.7</td>\n",
       "      <td>3.0</td>\n",
       "      <td>5.2</td>\n",
       "      <td>2.3</td>\n",
       "      <td>1</td>\n",
       "    </tr>\n",
       "    <tr>\n",
       "      <th>146</th>\n",
       "      <td>6.3</td>\n",
       "      <td>2.5</td>\n",
       "      <td>5.0</td>\n",
       "      <td>1.9</td>\n",
       "      <td>1</td>\n",
       "    </tr>\n",
       "    <tr>\n",
       "      <th>147</th>\n",
       "      <td>6.5</td>\n",
       "      <td>3.0</td>\n",
       "      <td>5.2</td>\n",
       "      <td>2.0</td>\n",
       "      <td>1</td>\n",
       "    </tr>\n",
       "    <tr>\n",
       "      <th>148</th>\n",
       "      <td>6.2</td>\n",
       "      <td>3.4</td>\n",
       "      <td>5.4</td>\n",
       "      <td>2.3</td>\n",
       "      <td>1</td>\n",
       "    </tr>\n",
       "    <tr>\n",
       "      <th>149</th>\n",
       "      <td>5.9</td>\n",
       "      <td>3.0</td>\n",
       "      <td>5.1</td>\n",
       "      <td>1.8</td>\n",
       "      <td>1</td>\n",
       "    </tr>\n",
       "  </tbody>\n",
       "</table>\n",
       "</div>"
      ],
      "text/plain": [
       "      x1   x2   x3   x4  y\n",
       "145  6.7  3.0  5.2  2.3  1\n",
       "146  6.3  2.5  5.0  1.9  1\n",
       "147  6.5  3.0  5.2  2.0  1\n",
       "148  6.2  3.4  5.4  2.3  1\n",
       "149  5.9  3.0  5.1  1.8  1"
      ]
     },
     "execution_count": 23,
     "metadata": {},
     "output_type": "execute_result"
    }
   ],
   "source": [
    "df = pd.read_csv('./datasets/iris.data', index_col=None, header=None)\n",
    "df.columns = ['x1', 'x2', 'x3', 'x4', 'y']\n",
    "df = df.iloc[50:150]\n",
    "df['y'] = df['y'].apply(lambda x: 0 if x == 'Iris-versicolor' else 1)\n",
    "df.tail()"
   ]
  },
  {
   "cell_type": "code",
   "execution_count": 24,
   "metadata": {},
   "outputs": [],
   "source": [
    "# Assign features and target\n",
    "\n",
    "X = torch.tensor(df[['x2', 'x3']].values, dtype=torch.float)\n",
    "y = torch.tensor(df['y'].values, dtype=torch.int)\n",
    "\n",
    "# Shuffling & train/test split\n",
    "\n",
    "torch.manual_seed(123)\n",
    "shuffle_idx = torch.randperm(y.size(0), dtype=torch.long)\n",
    "\n",
    "X, y = X[shuffle_idx], y[shuffle_idx]\n",
    "\n",
    "percent70 = int(shuffle_idx.size(0)*0.7)\n",
    "\n",
    "X_train, X_test = X[shuffle_idx[:percent70]], X[shuffle_idx[percent70:]]\n",
    "y_train, y_test = y[shuffle_idx[:percent70]], y[shuffle_idx[percent70:]]\n",
    "\n",
    "# Normalize (mean zero, unit variance)\n",
    "\n",
    "mu, sigma = X_train.mean(dim=0), X_train.std(dim=0)\n",
    "X_train = (X_train - mu) / sigma\n",
    "X_test = (X_test - mu) / sigma"
   ]
  },
  {
   "cell_type": "code",
   "execution_count": 25,
   "metadata": {},
   "outputs": [
    {
     "data": {
      "image/png": "[encoded data removed]",
      "text/plain": [
       "<Figure size 640x480 with 1 Axes>"
      ]
     },
     "metadata": {},
     "output_type": "display_data"
    }
   ],
   "source": [
    "plt.scatter(X_train[y_train == 0, 0], X_train[y_train == 0, 1], label='class 0')\n",
    "plt.scatter(X_train[y_train == 1, 0], X_train[y_train == 1, 1], label='class 1')\n",
    "plt.legend()\n",
    "plt.show()"
   ]
  },
  {
   "cell_type": "code",
   "execution_count": 26,
   "metadata": {},
   "outputs": [
    {
     "data": {
      "image/png": "[encoded data removed]",
      "text/plain": [
       "<Figure size 640x480 with 1 Axes>"
      ]
     },
     "metadata": {},
     "output_type": "display_data"
    }
   ],
   "source": [
    "plt.scatter(X_test[y_test == 0, 0], X_test[y_test == 0, 1], label='class 0')\n",
    "plt.scatter(X_test[y_test == 1, 0], X_test[y_test == 1, 1], label='class 1')\n",
    "plt.legend()\n",
    "plt.show()"
   ]
  },
  {
   "cell_type": "markdown",
   "metadata": {},
   "source": [
    "## TASK 2: Implement the Neuron Model (Modifications required) -- 25 pts"
   ]
  },
  {
   "cell_type": "markdown",
   "metadata": {},
   "source": [
    "Your task is to complete the `backward` method to compute the gradients based on the gradients you computed in TASK1."
   ]
  },
  {
   "cell_type": "code",
   "execution_count": 49,
   "metadata": {},
   "outputs": [],
   "source": [
    "class NeuronModel():\n",
    "    def __init__(self, num_features):\n",
    "        self.num_features = num_features\n",
    "        self.weights = torch.zeros(num_features, 1, \n",
    "                                   dtype=torch.float)\n",
    "        self.bias = torch.zeros(1, dtype=torch.float)\n",
    "        \n",
    "    def activation_func(self, x):\n",
    "        return (torch.exp(x) - torch.exp(-x)) / (torch.exp(x) + torch.exp(-x))\n",
    "    \n",
    "    def netinput_func(self, x, w, b):\n",
    "         return torch.add(torch.mm(x, w), b)\n",
    "\n",
    "    def forward(self, x):\n",
    "        netinputs = self.netinput_func(x, self.weights, self.bias)\n",
    "        activations = self.activation_func(netinputs)\n",
    "        return activations.view(-1)\n",
    "        \n",
    "    def backward(self, x, yhat, y):  \n",
    "        \n",
    "        # note that here, \"yhat\" are the \"activations\" \n",
    "        netinputs = self.netinput_func(x, self.weights, self.bias)\n",
    "        \n",
    "        ###############################################################################\n",
    "        # YOU ONLY NEED TO EDIT IN THE BOX BELOW\n",
    "        ###############################################################################\n",
    "        \n",
    "        grad_loss_yhat = 2*(yhat - y) \n",
    "        grad_yhat_weights = (4*x) /  ((torch.exp(netinputs) + torch.exp(-netinputs))**2).view(-1,1)\n",
    "        grad_yhat_bias = (4) /  ((torch.exp(netinputs)+ torch.exp(-netinputs))**2).view(-1,1)\n",
    "        \n",
    "        \n",
    "\n",
    "        grad_loss_weights = torch.mm(grad_yhat_weights.t(),grad_loss_yhat.view(-1,1))/y.size(0)\n",
    "        grad_loss_bias = torch.sum(grad_yhat_bias*grad_loss_yhat.view(-1,1)) / y.size(0)\n",
    "        \n",
    "        ################################################################################\n",
    "        \n",
    "        return (-1)*grad_loss_weights, (-1)*grad_loss_bias"
   ]
  },
  {
   "cell_type": "markdown",
   "metadata": {},
   "source": [
    "# No modifications required beyond this point"
   ]
  },
  {
   "cell_type": "markdown",
   "metadata": {},
   "source": [
    "You do not need to modify anything below. However, you should run and analyze the code to verify that your implementation of the Neuron model is likely correct."
   ]
  },
  {
   "cell_type": "markdown",
   "metadata": {},
   "source": [
    "## Training the Neuron Model (Don't modify this section, just execute)"
   ]
  },
  {
   "cell_type": "code",
   "execution_count": 50,
   "metadata": {},
   "outputs": [],
   "source": [
    "####################################################\n",
    "##### Training and evaluation wrappers\n",
    "###################################################\n",
    "\n",
    "def loss(yhat, y):\n",
    "    return torch.mean((yhat - y)**2)\n",
    "\n",
    "\n",
    "def train(model, x, y, num_epochs,\n",
    "          learning_rate=0.01, seed=123, minibatch_size=10):\n",
    "    cost = []\n",
    "    \n",
    "    torch.manual_seed(seed)\n",
    "    for e in range(num_epochs):\n",
    "        \n",
    "        #### Shuffle epoch\n",
    "        shuffle_idx = torch.randperm(y.size(0), dtype=torch.long)\n",
    "        minibatches = torch.split(shuffle_idx, minibatch_size)\n",
    "        \n",
    "        for minibatch_idx in minibatches:\n",
    "\n",
    "            #### Compute outputs ####\n",
    "            yhat = model.forward(x[minibatch_idx])\n",
    "\n",
    "            #### Compute gradients ####\n",
    "            negative_grad_w, negative_grad_b = \\\n",
    "                model.backward(x[minibatch_idx], yhat, y[minibatch_idx])\n",
    "\n",
    "            #### Update weights ####\n",
    "            model.weights += learning_rate * negative_grad_w\n",
    "            model.bias += learning_rate * negative_grad_b\n",
    "            \n",
    "            #### Logging ####\n",
    "            #minibatch_loss = loss(yhat, y[minibatch_idx])\n",
    "            #print('    Minibatch MSE: %.3f' % minibatch_loss)\n",
    "\n",
    "        #### Logging ####\n",
    "        yhat = model.forward(x)\n",
    "        curr_loss = loss(yhat, y)\n",
    "        print('Epoch: %03d' % (e+1), end=\"\")\n",
    "        print(' | MSE: %.5f' % curr_loss)\n",
    "        cost.append(curr_loss)\n",
    "\n",
    "    return cost"
   ]
  },
  {
   "cell_type": "code",
   "execution_count": 51,
   "metadata": {},
   "outputs": [
    {
     "name": "stdout",
     "output_type": "stream",
     "text": [
      "Epoch: 001 | MSE: 0.11461\n",
      "Epoch: 002 | MSE: 0.09918\n",
      "Epoch: 003 | MSE: 0.09520\n",
      "Epoch: 004 | MSE: 0.09303\n",
      "Epoch: 005 | MSE: 0.09212\n",
      "Epoch: 006 | MSE: 0.09288\n",
      "Epoch: 007 | MSE: 0.09124\n",
      "Epoch: 008 | MSE: 0.09113\n",
      "Epoch: 009 | MSE: 0.09279\n",
      "Epoch: 010 | MSE: 0.09102\n",
      "Epoch: 011 | MSE: 0.09100\n",
      "Epoch: 012 | MSE: 0.09169\n",
      "Epoch: 013 | MSE: 0.09113\n",
      "Epoch: 014 | MSE: 0.09131\n",
      "Epoch: 015 | MSE: 0.09152\n",
      "Epoch: 016 | MSE: 0.09186\n",
      "Epoch: 017 | MSE: 0.09173\n",
      "Epoch: 018 | MSE: 0.09111\n",
      "Epoch: 019 | MSE: 0.09097\n",
      "Epoch: 020 | MSE: 0.09095\n",
      "Epoch: 021 | MSE: 0.09141\n",
      "Epoch: 022 | MSE: 0.09266\n",
      "Epoch: 023 | MSE: 0.09096\n",
      "Epoch: 024 | MSE: 0.09170\n",
      "Epoch: 025 | MSE: 0.09179\n",
      "Epoch: 026 | MSE: 0.09141\n",
      "Epoch: 027 | MSE: 0.09176\n",
      "Epoch: 028 | MSE: 0.09103\n",
      "Epoch: 029 | MSE: 0.09121\n",
      "Epoch: 030 | MSE: 0.09096\n",
      "Epoch: 031 | MSE: 0.09310\n",
      "Epoch: 032 | MSE: 0.09140\n",
      "Epoch: 033 | MSE: 0.09120\n",
      "Epoch: 034 | MSE: 0.09103\n",
      "Epoch: 035 | MSE: 0.09130\n",
      "Epoch: 036 | MSE: 0.09145\n",
      "Epoch: 037 | MSE: 0.09107\n",
      "Epoch: 038 | MSE: 0.09108\n",
      "Epoch: 039 | MSE: 0.09104\n",
      "Epoch: 040 | MSE: 0.09153\n",
      "Epoch: 041 | MSE: 0.09148\n",
      "Epoch: 042 | MSE: 0.09102\n",
      "Epoch: 043 | MSE: 0.09353\n",
      "Epoch: 044 | MSE: 0.09131\n",
      "Epoch: 045 | MSE: 0.09136\n",
      "Epoch: 046 | MSE: 0.09278\n",
      "Epoch: 047 | MSE: 0.09109\n",
      "Epoch: 048 | MSE: 0.09106\n",
      "Epoch: 049 | MSE: 0.09162\n",
      "Epoch: 050 | MSE: 0.09111\n",
      "Epoch: 051 | MSE: 0.09193\n",
      "Epoch: 052 | MSE: 0.09109\n",
      "Epoch: 053 | MSE: 0.09246\n",
      "Epoch: 054 | MSE: 0.09238\n",
      "Epoch: 055 | MSE: 0.09221\n",
      "Epoch: 056 | MSE: 0.09185\n",
      "Epoch: 057 | MSE: 0.09183\n",
      "Epoch: 058 | MSE: 0.09103\n",
      "Epoch: 059 | MSE: 0.09129\n",
      "Epoch: 060 | MSE: 0.09095\n",
      "Epoch: 061 | MSE: 0.09127\n",
      "Epoch: 062 | MSE: 0.09127\n",
      "Epoch: 063 | MSE: 0.09144\n",
      "Epoch: 064 | MSE: 0.09097\n",
      "Epoch: 065 | MSE: 0.09475\n",
      "Epoch: 066 | MSE: 0.09298\n",
      "Epoch: 067 | MSE: 0.09120\n",
      "Epoch: 068 | MSE: 0.09098\n",
      "Epoch: 069 | MSE: 0.09139\n",
      "Epoch: 070 | MSE: 0.09102\n",
      "Epoch: 071 | MSE: 0.09103\n",
      "Epoch: 072 | MSE: 0.09164\n",
      "Epoch: 073 | MSE: 0.09230\n",
      "Epoch: 074 | MSE: 0.09109\n",
      "Epoch: 075 | MSE: 0.09159\n",
      "Epoch: 076 | MSE: 0.09103\n",
      "Epoch: 077 | MSE: 0.09102\n",
      "Epoch: 078 | MSE: 0.09115\n",
      "Epoch: 079 | MSE: 0.09175\n",
      "Epoch: 080 | MSE: 0.09100\n",
      "Epoch: 081 | MSE: 0.09095\n",
      "Epoch: 082 | MSE: 0.09472\n",
      "Epoch: 083 | MSE: 0.09121\n",
      "Epoch: 084 | MSE: 0.09096\n",
      "Epoch: 085 | MSE: 0.09149\n",
      "Epoch: 086 | MSE: 0.09107\n",
      "Epoch: 087 | MSE: 0.09127\n",
      "Epoch: 088 | MSE: 0.09155\n",
      "Epoch: 089 | MSE: 0.09730\n",
      "Epoch: 090 | MSE: 0.09141\n",
      "Epoch: 091 | MSE: 0.09099\n",
      "Epoch: 092 | MSE: 0.09142\n",
      "Epoch: 093 | MSE: 0.09391\n",
      "Epoch: 094 | MSE: 0.09125\n",
      "Epoch: 095 | MSE: 0.09100\n",
      "Epoch: 096 | MSE: 0.09123\n",
      "Epoch: 097 | MSE: 0.09101\n",
      "Epoch: 098 | MSE: 0.09141\n",
      "Epoch: 099 | MSE: 0.09105\n",
      "Epoch: 100 | MSE: 0.09147\n",
      "Epoch: 101 | MSE: 0.09127\n",
      "Epoch: 102 | MSE: 0.09109\n",
      "Epoch: 103 | MSE: 0.09192\n",
      "Epoch: 104 | MSE: 0.09378\n",
      "Epoch: 105 | MSE: 0.09198\n",
      "Epoch: 106 | MSE: 0.09101\n",
      "Epoch: 107 | MSE: 0.09175\n",
      "Epoch: 108 | MSE: 0.09202\n",
      "Epoch: 109 | MSE: 0.09184\n",
      "Epoch: 110 | MSE: 0.09098\n",
      "Epoch: 111 | MSE: 0.09118\n",
      "Epoch: 112 | MSE: 0.09271\n",
      "Epoch: 113 | MSE: 0.09169\n",
      "Epoch: 114 | MSE: 0.09099\n",
      "Epoch: 115 | MSE: 0.09123\n",
      "Epoch: 116 | MSE: 0.09131\n",
      "Epoch: 117 | MSE: 0.09126\n",
      "Epoch: 118 | MSE: 0.09178\n",
      "Epoch: 119 | MSE: 0.09113\n",
      "Epoch: 120 | MSE: 0.09169\n",
      "Epoch: 121 | MSE: 0.09154\n",
      "Epoch: 122 | MSE: 0.09124\n",
      "Epoch: 123 | MSE: 0.09095\n",
      "Epoch: 124 | MSE: 0.09147\n",
      "Epoch: 125 | MSE: 0.09201\n",
      "Epoch: 126 | MSE: 0.09148\n",
      "Epoch: 127 | MSE: 0.09205\n",
      "Epoch: 128 | MSE: 0.09130\n",
      "Epoch: 129 | MSE: 0.09098\n",
      "Epoch: 130 | MSE: 0.09265\n",
      "Epoch: 131 | MSE: 0.09133\n",
      "Epoch: 132 | MSE: 0.09271\n",
      "Epoch: 133 | MSE: 0.09342\n",
      "Epoch: 134 | MSE: 0.09114\n",
      "Epoch: 135 | MSE: 0.09116\n",
      "Epoch: 136 | MSE: 0.09234\n",
      "Epoch: 137 | MSE: 0.09149\n",
      "Epoch: 138 | MSE: 0.09135\n",
      "Epoch: 139 | MSE: 0.09165\n",
      "Epoch: 140 | MSE: 0.09119\n",
      "Epoch: 141 | MSE: 0.09211\n",
      "Epoch: 142 | MSE: 0.09161\n",
      "Epoch: 143 | MSE: 0.09131\n",
      "Epoch: 144 | MSE: 0.09099\n",
      "Epoch: 145 | MSE: 0.09130\n",
      "Epoch: 146 | MSE: 0.09101\n",
      "Epoch: 147 | MSE: 0.09195\n",
      "Epoch: 148 | MSE: 0.09113\n",
      "Epoch: 149 | MSE: 0.09197\n",
      "Epoch: 150 | MSE: 0.09191\n"
     ]
    }
   ],
   "source": [
    "model = NeuronModel(num_features=X_train.size(1))\n",
    "cost = train(model, \n",
    "             X_train, y_train.float(),\n",
    "             num_epochs=150,\n",
    "             learning_rate=0.2,\n",
    "             seed=123,\n",
    "             minibatch_size=10)"
   ]
  },
  {
   "cell_type": "markdown",
   "metadata": {},
   "source": [
    "## Evaluate the Trained Model  (Don't modify this section, just execute)"
   ]
  },
  {
   "cell_type": "code",
   "execution_count": 52,
   "metadata": {},
   "outputs": [
    {
     "data": {
      "image/png": "[encoded data removed]",
      "text/plain": [
       "<Figure size 640x480 with 1 Axes>"
      ]
     },
     "metadata": {},
     "output_type": "display_data"
    }
   ],
   "source": [
    "plt.plot(range(len(cost)), cost)\n",
    "plt.ylabel('Mean Squared Error')\n",
    "plt.xlabel('Epoch')\n",
    "plt.show()"
   ]
  },
  {
   "cell_type": "code",
   "execution_count": 53,
   "metadata": {},
   "outputs": [
    {
     "name": "stdout",
     "output_type": "stream",
     "text": [
      "Weights tensor([[-0.2348],\n",
      "        [ 0.7078]])\n",
      "Bias tensor([0.6282])\n"
     ]
    }
   ],
   "source": [
    "print('Weights', model.weights)\n",
    "print('Bias', model.bias)"
   ]
  },
  {
   "cell_type": "code",
   "execution_count": 54,
   "metadata": {},
   "outputs": [
    {
     "name": "stdout",
     "output_type": "stream",
     "text": [
      "Training Accuracy: 91.43%\n",
      "Test Accuracy: 91.43%\n"
     ]
    }
   ],
   "source": [
    "train_pred = model.forward(X_train)\n",
    "train_acc = torch.mean(\n",
    "    (torch.where(train_pred > 0.5, \n",
    "                 torch.tensor(1), \n",
    "                 torch.tensor(0)).int() == y_train).float())\n",
    "\n",
    "test_pred = model.forward(X_test)\n",
    "test_acc = torch.mean(\n",
    "    (torch.where(train_pred > 0.5, \n",
    "                 torch.tensor(1), \n",
    "                 torch.tensor(0)).int() == y_train).float())\n",
    "\n",
    "print('Training Accuracy: %.2f%%' % (train_acc*100))\n",
    "print('Test Accuracy: %.2f%%' % (test_acc*100))"
   ]
  },
  {
   "cell_type": "markdown",
   "metadata": {},
   "source": [
    "## Decision Boundary  (Don't modify this section, just execute)"
   ]
  },
  {
   "cell_type": "code",
   "execution_count": 55,
   "metadata": {},
   "outputs": [
    {
     "data": {
      "image/png": "[encoded data removed]",
      "text/plain": [
       "<Figure size 700x300 with 2 Axes>"
      ]
     },
     "metadata": {},
     "output_type": "display_data"
    }
   ],
   "source": [
    "import sympy\n",
    "import numpy as np\n",
    "w, b = model.weights, model.bias\n",
    "w = w.view(1, -1).tolist()[0]\n",
    "b = b.tolist()[0]\n",
    "z = sympy.symbols('z', real = True)\n",
    "critical_value_for_netinput = sympy.solve(sympy.tanh(z) - 0.5, z)[0]\n",
    "feature_1 = np.arange(-3, 3, 0.1)\n",
    "feature_2 = (critical_value_for_netinput - b - w[0] * feature_1) / w[1]\n",
    "\n",
    "fig, ax = plt.subplots(1, 2, sharex=True, figsize=(7, 3))\n",
    "\n",
    "ax[0].plot(feature_1, feature_2)\n",
    "ax[1].plot(feature_1, feature_2)\n",
    "\n",
    "ax[0].scatter(X_train[y_train==0, 0], X_train[y_train==0, 1], label='class 0', marker='o')\n",
    "ax[0].scatter(X_train[y_train==1, 0], X_train[y_train==1, 1], label='class 1', marker='s')\n",
    "\n",
    "ax[1].scatter(X_test[y_test==0, 0], X_test[y_test==0, 1], label='class 0', marker='o')\n",
    "ax[1].scatter(X_test[y_test==1, 0], X_test[y_test==1, 1], label='class 1', marker='s')\n",
    "\n",
    "ax[1].legend(loc='upper left')\n",
    "plt.show()"
   ]
  },
  {
   "cell_type": "code",
   "execution_count": null,
   "metadata": {},
   "outputs": [],
   "source": []
  },
  {
   "cell_type": "code",
   "execution_count": null,
   "metadata": {},
   "outputs": [],
   "source": []
  },
  {
   "cell_type": "code",
   "execution_count": null,
   "metadata": {},
   "outputs": [],
   "source": []
  }
 ],
 "metadata": {
  "kernelspec": {
   "display_name": "Python 3 (ipykernel)",
   "language": "python",
   "name": "python3"
  },
  "language_info": {
   "codemirror_mode": {
    "name": "ipython",
    "version": 3
   },
   "file_extension": ".py",
   "mimetype": "text/x-python",
   "name": "python",
   "nbconvert_exporter": "python",
   "pygments_lexer": "ipython3",
   "version": "3.11.5"
  },
  "toc": {
   "base_numbering": 1,
   "nav_menu": {},
   "number_sections": true,
   "sideBar": true,
   "skip_h1_title": false,
   "title_cell": "Table of Contents",
   "title_sidebar": "Contents",
   "toc_cell": false,
   "toc_position": {},
   "toc_section_display": true,
   "toc_window_display": false
  }
 },
 "nbformat": 4,
 "nbformat_minor": 4
}
